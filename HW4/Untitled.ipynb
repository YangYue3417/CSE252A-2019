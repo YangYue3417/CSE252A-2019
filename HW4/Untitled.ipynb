{
 "cells": [
  {
   "cell_type": "code",
   "execution_count": 47,
   "metadata": {},
   "outputs": [],
   "source": [
    "import numpy as np\n",
    "\n",
    "def pointsMatch(matrix):\n",
    "    if np.amax(matrix) == 0:\n",
    "        return -matrix\n",
    "    \n",
    "    arg = np.argmax(matrix)\n",
    "    max_tp = np.amax(matrix)\n",
    "    matrix[arg//matrix.shape[0],arg-(arg//matrix.shape[0]+1)*matrix.shape[0]]= -1\n",
    "    row_tp = matrix[arg//matrix.shape[0],:]\n",
    "    col_tp = matrix[:,arg-(arg//matrix.shape[0]+1)*matrix.shape[0]]\n",
    "    \n",
    "    max2nd = np.amax(np.amax(row_tp),np.amax(col_tp))\n",
    "    if (1-max_tp)<((1-max2nd)*0.8):\n",
    "        for i in range(matrix.shape[0]):\n",
    "            matrix[arg//matrix.shape[0],i] = 0\n",
    "            matrix[i,arg-(arg//matrix.shape[0]+1)*matrix.shape[0]] = 0\n",
    "        matrix[arg//matrix.shape[0],arg-(arg//matrix.shape[0]+1)*matrix.shape[0]]= -1\n",
    "    else:\n",
    "         for i in range(matrix.shape[0]):\n",
    "            matrix[arg//matrix.shape[0],i] = 0\n",
    "            matrix[i,arg-(arg//matrix.shape[0]+1)*matrix.shape[0]] = 0\n",
    "            \n",
    "    return pointsMatch(matrix)\n",
    "\n"
   ]
  }
 ],
 "metadata": {
  "kernelspec": {
   "display_name": "Python 3",
   "language": "python",
   "name": "python3"
  },
  "language_info": {
   "codemirror_mode": {
    "name": "ipython",
    "version": 3
   },
   "file_extension": ".py",
   "mimetype": "text/x-python",
   "name": "python",
   "nbconvert_exporter": "python",
   "pygments_lexer": "ipython3",
   "version": "3.7.3"
  }
 },
 "nbformat": 4,
 "nbformat_minor": 2
}
